{
 "cells": [
  {
   "cell_type": "markdown",
   "metadata": {},
   "source": [
    "## Find S Algorithm to find Specific Hypothesis from an Example (dataset)"
   ]
  },
  {
   "cell_type": "markdown",
   "metadata": {},
   "source": [
    "### Initialise dataset and attributes"
   ]
  },
  {
   "cell_type": "code",
   "execution_count": 6,
   "metadata": {},
   "outputs": [
    {
     "name": "stdout",
     "output_type": "stream",
     "text": [
      "\n",
      "The initial general hypothesis : ['?','?','?','?','?','?']\n",
      "The initial specific hypothesis : ['0','0','0','0','0','0']\n"
     ]
    }
   ],
   "source": [
    "# Pgm to implement Find S Algorithm on a dataset\n",
    "\n",
    "# Initialise dataset\n",
    "data = [['Sunny', 'Warm', 'Normal', 'Strong', 'Warm', 'Same', 'Yes'],\n",
    "        ['Sunny', 'Warm', 'High', 'Strong', 'Warm', 'Same', 'Yes'],\n",
    "        ['Rainy', 'Cold', 'High', 'Strong', 'Warm', 'Change', 'No'],\n",
    "        ['Sunny', 'Warm', 'High', 'Strong', 'Cool', 'Change', 'Yes']]\n",
    "\n",
    "# Initialise specific attributes\n",
    "attributes = [['Sunny','Rainy'],\n",
    "              ['Warm','Cold'],\n",
    "              ['Normal','High'],\n",
    "              ['Strong','Weak'],\n",
    "              ['Warm','Cool'],\n",
    "              ['Same','Change']]\n",
    "\n",
    "# No. of attributes\n",
    "num = len(attributes)\n",
    "\n",
    "print (\"\\nThe initial general hypothesis : ['?','?','?','?','?','?']\")\n",
    "print (\"The initial specific hypothesis : ['0','0','0','0','0','0']\")"
   ]
  },
  {
   "cell_type": "markdown",
   "metadata": {},
   "source": [
    "### Display the dataset"
   ]
  },
  {
   "cell_type": "code",
   "execution_count": 7,
   "metadata": {},
   "outputs": [
    {
     "name": "stdout",
     "output_type": "stream",
     "text": [
      "\n",
      "The given Training Data Set:\n",
      "[['Sunny', 'Warm', 'Normal', 'Strong', 'Warm', 'Same', 'Yes'], ['Sunny', 'Warm', 'High', 'Strong', 'Warm', 'Same', 'Yes'], ['Rainy', 'Cold', 'High', 'Strong', 'Warm', 'Change', 'No'], ['Sunny', 'Warm', 'High', 'Strong', 'Cool', 'Change', 'Yes']]\n"
     ]
    }
   ],
   "source": [
    "print(\"\\nThe given Training Data Set:\")\n",
    "print(data)"
   ]
  },
  {
   "cell_type": "markdown",
   "metadata": {},
   "source": [
    "### Display the initial value of hypothesis"
   ]
  },
  {
   "cell_type": "code",
   "execution_count": 8,
   "metadata": {},
   "outputs": [
    {
     "name": "stdout",
     "output_type": "stream",
     "text": [
      "\n",
      "The initial value of hypothesis: \n",
      "['0', '0', '0', '0', '0', '0']\n"
     ]
    }
   ],
   "source": [
    "print(\"\\nThe initial value of hypothesis: \")\n",
    "hypothesis = ['0'] * num\n",
    "print(hypothesis)"
   ]
  },
  {
   "cell_type": "markdown",
   "metadata": {},
   "source": [
    "\n",
    "### Comparing with Remaining Training Samples of given Data Set"
   ]
  },
  {
   "cell_type": "code",
   "execution_count": 9,
   "metadata": {},
   "outputs": [
    {
     "name": "stdout",
     "output_type": "stream",
     "text": [
      "\n",
      "Find S Algorithm: Finding a Maximally Specific Hypothesis\n",
      "\n",
      "For Training sample 0, the hypothesis is: ['Sunny', 'Warm', 'Normal', 'Strong', 'Warm', 'Same']\n",
      "For Training sample 1, the hypothesis is: ['Sunny', 'Warm', '?', 'Strong', 'Warm', 'Same']\n",
      "For Training sample 2, the hypothesis is: ['Sunny', 'Warm', '?', 'Strong', 'Warm', 'Same']\n",
      "For Training sample 3, the hypothesis is: ['Sunny', 'Warm', '?', 'Strong', '?', '?']\n"
     ]
    }
   ],
   "source": [
    "# Comparing with First Training Sample\n",
    "for i in range(0, num):\n",
    "    hypothesis[i] = data[0][i]\n",
    "\n",
    "# Comparing with remaining Training Samples\n",
    "print(\"\\nFind S Algorithm: Finding a Maximally Specific Hypothesis\\n\")\n",
    "for i in range(0, len(data)):\n",
    "    # Positive sample\n",
    "    if data[i][num] == 'Yes': \n",
    "        for j in range(0, num):\n",
    "            if data[i][j] != hypothesis[j]:\n",
    "                hypothesis[j] = '?'\n",
    "            else:\n",
    "                hypothesis[j] = data[i][j]\n",
    "    print(\"For Training sample {0}, the hypothesis is:\".format(i),hypothesis)"
   ]
  },
  {
   "cell_type": "markdown",
   "metadata": {},
   "source": [
    "### Display the specific hypothesis"
   ]
  },
  {
   "cell_type": "code",
   "execution_count": 10,
   "metadata": {},
   "outputs": [
    {
     "name": "stdout",
     "output_type": "stream",
     "text": [
      "\n",
      "The Specific Hypothesis for the given Training Example is:\n",
      "['Sunny', 'Warm', '?', 'Strong', '?', '?']\n"
     ]
    }
   ],
   "source": [
    "print(\"\\nThe Specific Hypothesis for the given Training Example is:\")\n",
    "print(hypothesis)"
   ]
  }
 ],
 "metadata": {
  "interpreter": {
   "hash": "3d9d7a7768e258ce6cbdbd595505c11fbf8b1524905ee25697a08990b625fcdc"
  },
  "kernelspec": {
   "display_name": "Python 3 (ipykernel)",
   "language": "python",
   "name": "python3"
  },
  "language_info": {
   "codemirror_mode": {
    "name": "ipython",
    "version": 3
   },
   "file_extension": ".py",
   "mimetype": "text/x-python",
   "name": "python",
   "nbconvert_exporter": "python",
   "pygments_lexer": "ipython3",
   "version": "3.8.10"
  }
 },
 "nbformat": 4,
 "nbformat_minor": 2
}

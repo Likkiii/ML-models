{
 "cells": [
  {
   "cell_type": "markdown",
   "metadata": {},
   "source": [
    "## Linear Regression model (with scikit-learn)"
   ]
  },
  {
   "cell_type": "code",
   "execution_count": 6,
   "metadata": {},
   "outputs": [],
   "source": [
    "import numpy as np\n",
    "from sklearn.linear_model import LinearRegression\n",
    "\n",
    "X = np.array([10, 12, 13, 12, 16, 15]).reshape((-1, 1))\n",
    "Y = np.array([40, 38, 43, 45, 37, 43])"
   ]
  },
  {
   "cell_type": "markdown",
   "metadata": {},
   "source": [
    "### Create a model and fit it"
   ]
  },
  {
   "cell_type": "code",
   "execution_count": 7,
   "metadata": {},
   "outputs": [],
   "source": [
    "model = LinearRegression().fit(X, Y)"
   ]
  },
  {
   "cell_type": "markdown",
   "metadata": {},
   "source": [
    "### Calculate and display Slope & Intercept"
   ]
  },
  {
   "cell_type": "code",
   "execution_count": 8,
   "metadata": {},
   "outputs": [
    {
     "name": "stdout",
     "output_type": "stream",
     "text": [
      "\n",
      "Slope:  [-0.25]\n",
      "Intercept:  44.25\n"
     ]
    }
   ],
   "source": [
    "print(\"\\nSlope: \", model.coef_)\n",
    "print(\"Intercept: \", model.intercept_)"
   ]
  },
  {
   "cell_type": "markdown",
   "metadata": {},
   "source": [
    "### Predicting value from model"
   ]
  },
  {
   "cell_type": "code",
   "execution_count": 9,
   "metadata": {},
   "outputs": [
    {
     "name": "stdout",
     "output_type": "stream",
     "text": [
      "Predicted value of y = 43.5\n"
     ]
    }
   ],
   "source": [
    "x = np.array(int(input(\"\\nEnter value of x: \"))).reshape((-1, 1))\n",
    "y_pred = float(model.predict(x))\n",
    "print(\"Predicted value of y =\", y_pred)"
   ]
  }
 ],
 "metadata": {
  "interpreter": {
   "hash": "3d9d7a7768e258ce6cbdbd595505c11fbf8b1524905ee25697a08990b625fcdc"
  },
  "kernelspec": {
   "display_name": "Python 3.9.2 64-bit ('vir': venv)",
   "name": "python3"
  },
  "language_info": {
   "codemirror_mode": {
    "name": "ipython",
    "version": 3
   },
   "file_extension": ".py",
   "mimetype": "text/x-python",
   "name": "python",
   "nbconvert_exporter": "python",
   "pygments_lexer": "ipython3",
   "version": "3.8.10"
  }
 },
 "nbformat": 4,
 "nbformat_minor": 2
}

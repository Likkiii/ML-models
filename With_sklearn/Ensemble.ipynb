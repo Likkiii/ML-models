{
 "cells": [
  {
   "cell_type": "markdown",
   "metadata": {},
   "source": [
    "# Bagging and Boosting (with sklearn)\n",
    "# (Random Forest and AdaBoost) (test size = 0.3)\n"
   ]
  },
  {
   "cell_type": "markdown",
   "metadata": {},
   "source": [
    "### Importing the libraries\n"
   ]
  },
  {
   "cell_type": "code",
   "execution_count": 1,
   "metadata": {},
   "outputs": [],
   "source": [
    "import pandas as pd\n",
    "\n",
    "from sklearn.ensemble import RandomForestClassifier\n",
    "from sklearn. ensemble import AdaBoostClassifier\n",
    "\n",
    "from sklearn.model_selection import train_test_split\n",
    "\n",
    "from sklearn.metrics import confusion_matrix\n",
    "from sklearn.metrics import accuracy_score"
   ]
  },
  {
   "cell_type": "markdown",
   "metadata": {},
   "source": [
    "### Load Data set\n"
   ]
  },
  {
   "cell_type": "code",
   "execution_count": 2,
   "metadata": {},
   "outputs": [],
   "source": [
    "dataset = pd.read_csv(\"../Datasets/processed.cleveland.data.csv\", names=[\"age\",\"sex\",\"cp\",\"trestbps\",\"chol\",\"fbs\",\"restecg\",\"thalach\",\"exang\",\"oldpeak\",\"slope\",\"ca\",\"thal\",\"output\"])\n",
    "dataset_mean = dataset"
   ]
  },
  {
   "cell_type": "markdown",
   "metadata": {},
   "source": [
    "### Data Preprocessing"
   ]
  },
  {
   "cell_type": "code",
   "execution_count": 3,
   "metadata": {},
   "outputs": [
    {
     "name": "stdout",
     "output_type": "stream",
     "text": [
      "*****Before Fill Missing values Row 166,192, 287,302********\n",
      "age          58.0\n",
      "sex           1.0\n",
      "cp            2.0\n",
      "trestbps    125.0\n",
      "chol        220.0\n",
      "fbs           0.0\n",
      "restecg       0.0\n",
      "thalach     144.0\n",
      "exang         0.0\n",
      "oldpeak       0.4\n",
      "slope         2.0\n",
      "ca            NaN\n",
      "thal          7.0\n",
      "output        0.0\n",
      "Name: 287, dtype: float64\n",
      "-------- Mean of Column 11 'ca'--------\n",
      "0.6722408026755853\n",
      "*****After Fill Missing values Row 166,192,287,302********\n",
      "     age  sex  cp  trestbps  chol  fbs  restecg  thalach  exang  oldpeak  \\\n",
      "166   52    1   3       138   223    0        0      169      0      0.0   \n",
      "192   43    1   4       132   247    1        2      143      1      0.1   \n",
      "287   58    1   2       125   220    0        0      144      0      0.4   \n",
      "302   38    1   3       138   175    0        0      173      0      0.0   \n",
      "\n",
      "     slope        ca  thal  output  \n",
      "166      1  0.672241   3.0       0  \n",
      "192      2  0.672241   7.0       1  \n",
      "287      2  0.672241   7.0       0  \n",
      "302      1  0.672241   3.0       0  \n",
      "-------- Mean of Column 12 'thal' --------\n",
      "4.73421926910299\n",
      "*****After Fill Missing values Row 87,266********\n",
      "     age  sex  cp  trestbps  chol  fbs  restecg  thalach  exang  oldpeak  \\\n",
      "87    53    0   3       128   216    0        2      115      0      0.0   \n",
      "266   52    1   4       128   204    1        0      156      1      1.0   \n",
      "\n",
      "     slope   ca      thal  output  \n",
      "87       1  0.0  4.734219       0  \n",
      "266      2  0.0  4.734219       2  \n"
     ]
    }
   ],
   "source": [
    "\n",
    "# Filling missing values Statistics measures\n",
    "print(\"*****Before Fill Missing values Row 166,192, 287,302********\")\n",
    "print(dataset_mean.loc[287])\n",
    "dataset1=dataset_mean\n",
    "df1=pd.DataFrame(dataset1)\n",
    "\n",
    "print(\"-------- Mean of Column 11 'ca'--------\")\n",
    "print(df1['ca'].mean())\n",
    "df1.fillna(df1.mean(), inplace=True)\n",
    "print(\"*****After Fill Missing values Row 166,192,287,302********\")\n",
    "print(df1.loc[[166,192,287,302]])\n",
    "\n",
    "print(\"-------- Mean of Column 12 'thal' --------\")\n",
    "print(df1['thal'].mean())\n",
    "df1.fillna(df1.mean(), inplace=True)\n",
    "print(\"*****After Fill Missing values Row 87,266********\")\n",
    "print(df1.loc[[87,266]])"
   ]
  },
  {
   "cell_type": "markdown",
   "metadata": {},
   "source": [
    "\n",
    "### Extract feature columns"
   ]
  },
  {
   "cell_type": "code",
   "execution_count": 4,
   "metadata": {},
   "outputs": [],
   "source": [
    "feature_cols = list(dataset.columns[0:13])\n",
    "\n",
    "# Separate the data into feature data and target data (x_all and y_all respectively)\n",
    "x = dataset[feature_cols]\n",
    "y = dataset['output'].values"
   ]
  },
  {
   "cell_type": "markdown",
   "metadata": {},
   "source": [
    "### Split the Dataset into Training and Testing data"
   ]
  },
  {
   "cell_type": "code",
   "execution_count": 5,
   "metadata": {},
   "outputs": [
    {
     "name": "stdout",
     "output_type": "stream",
     "text": [
      "     age  sex  cp  trestbps  chol  fbs  restecg  thalach  exang  oldpeak  \\\n",
      "3     37    1   3       130   250    0        0      187      0      3.5   \n",
      "55    54    1   4       124   266    0        2      109      1      2.2   \n",
      "225   34    0   2       118   210    0        0      192      0      0.7   \n",
      "224   63    0   4       108   269    0        0      169      1      1.8   \n",
      "75    65    0   3       160   360    0        2      151      0      0.8   \n",
      "..   ...  ...  ..       ...   ...  ...      ...      ...    ...      ...   \n",
      "8     63    1   4       130   254    0        2      147      0      1.4   \n",
      "73    65    1   4       110   248    0        2      158      0      0.6   \n",
      "118   63    1   4       130   330    1        2      132      1      1.8   \n",
      "189   69    1   3       140   254    0        2      146      0      2.0   \n",
      "206   58    1   4       128   259    0        2      130      1      3.0   \n",
      "\n",
      "     slope   ca  thal  \n",
      "3        3  0.0   3.0  \n",
      "55       2  1.0   7.0  \n",
      "225      1  0.0   3.0  \n",
      "224      2  2.0   3.0  \n",
      "75       1  0.0   3.0  \n",
      "..     ...  ...   ...  \n",
      "8        2  1.0   7.0  \n",
      "73       1  2.0   6.0  \n",
      "118      1  3.0   7.0  \n",
      "189      2  3.0   7.0  \n",
      "206      2  2.0   7.0  \n",
      "\n",
      "[212 rows x 13 columns]\n"
     ]
    }
   ],
   "source": [
    "x_train, x_test, y_train, y_test = train_test_split(x, y, test_size=0.30, random_state=5)\n",
    "print(x_train)"
   ]
  },
  {
   "cell_type": "markdown",
   "metadata": {},
   "source": [
    "## Random Forest"
   ]
  },
  {
   "cell_type": "code",
   "execution_count": 6,
   "metadata": {},
   "outputs": [
    {
     "name": "stdout",
     "output_type": "stream",
     "text": [
      "Accuracy= 0.6153846153846154\n"
     ]
    }
   ],
   "source": [
    "#Model\n",
    "clf5 = RandomForestClassifier(n_estimators=50, random_state=1)\n",
    "clf5.fit(x_train, y_train)\n",
    "y_predictions= clf5.predict(x_test)\n",
    "\n",
    "# Confusion Matrix\n",
    "cm1 = confusion_matrix(y_test,y_predictions)\n",
    "\n",
    "# Accuracy\n",
    "print(\"Accuracy=\", accuracy_score(y_test, y_predictions))"
   ]
  },
  {
   "cell_type": "markdown",
   "metadata": {},
   "source": [
    "### Adaboost\n"
   ]
  },
  {
   "cell_type": "code",
   "execution_count": 7,
   "metadata": {},
   "outputs": [
    {
     "name": "stdout",
     "output_type": "stream",
     "text": [
      "Accuracy= 0.5274725274725275\n"
     ]
    }
   ],
   "source": [
    "#Model\n",
    "clf6 = AdaBoostClassifier (n_estimators=50)\n",
    "clf6.fit(x_train, y_train)\n",
    "y_predictions: clf6.predict(x_test)\n",
    "\n",
    "#Confusion Matrix\n",
    "y_predictions = clf6.predict(x_test)\n",
    "cm = confusion_matrix(y_test, y_predictions)\n",
    "\n",
    "# Accuracy\n",
    "print(\"Accuracy=\", accuracy_score(y_test, y_predictions))"
   ]
  }
 ],
 "metadata": {
  "interpreter": {
   "hash": "3d9d7a7768e258ce6cbdbd595505c11fbf8b1524905ee25697a08990b625fcdc"
  },
  "kernelspec": {
   "display_name": "Python 3.9.2 64-bit ('vir': venv)",
   "language": "python",
   "name": "python3"
  },
  "language_info": {
   "codemirror_mode": {
    "name": "ipython",
    "version": 3
   },
   "file_extension": ".py",
   "mimetype": "text/x-python",
   "name": "python",
   "nbconvert_exporter": "python",
   "pygments_lexer": "ipython3",
   "version": "3.8.10"
  },
  "orig_nbformat": 4
 },
 "nbformat": 4,
 "nbformat_minor": 2
}
